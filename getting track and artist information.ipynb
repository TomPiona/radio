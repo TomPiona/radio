{
 "cells": [
  {
   "cell_type": "code",
   "execution_count": 2,
   "metadata": {
    "collapsed": true
   },
   "outputs": [],
   "source": [
    "import pandas as pd\n",
    "import numpy as np\n",
    "import matplotlib.pyplot as plt\n",
    "import seaborn as sns\n",
    "import json\n",
    "import requests"
   ]
  },
  {
   "cell_type": "markdown",
   "metadata": {},
   "source": [
    "### setting up for api requests"
   ]
  },
  {
   "cell_type": "code",
   "execution_count": 77,
   "metadata": {},
   "outputs": [
    {
     "name": "stdout",
     "output_type": "stream",
     "text": [
      "<Response [200]>\n"
     ]
    }
   ],
   "source": [
    "# reading in tokens\n",
    "with open('spotify_stuff.json', 'r') as f:\n",
    "    keys = json.load(f)\n",
    "\n",
    "# getting token\n",
    "response=requests.post('https://accounts.spotify.com/api/token', data={'grant_type' : 'client_credentials'}, auth = (keys['client_id'], keys['client_secret'])) \n",
    "print(response)\n",
    "\n",
    "# saving token for further use\n",
    "token_info = json.loads(response.text)\n",
    "token = 'Bearer ' + token_info['access_token']"
   ]
  },
  {
   "cell_type": "markdown",
   "metadata": {},
   "source": [
    "### First, search for each track, then save track id and artists ids from top result"
   ]
  },
  {
   "cell_type": "code",
   "execution_count": 97,
   "metadata": {},
   "outputs": [],
   "source": [
    "# example search request\n",
    "body_params = {'q':'Havana', 'type':'track'}\n",
    "head = {'Authorization':token, \"Accept\": \"application/json\", \"Content-Type\":\"application/json\"}\n",
    "response = requests.get('https://api.spotify.com/v1/search', params=body_params, headers=head) \n",
    "s = json.loads(response.text)"
   ]
  },
  {
   "cell_type": "code",
   "execution_count": 98,
   "metadata": {
    "collapsed": true
   },
   "outputs": [],
   "source": [
    "# path to top result\n",
    "#s['tracks']['items'][0]"
   ]
  },
  {
   "cell_type": "code",
   "execution_count": 99,
   "metadata": {},
   "outputs": [
    {
     "name": "stdout",
     "output_type": "stream",
     "text": [
      "https://api.spotify.com/v1/tracks/0ofbQMrRDsUaVKq2mGLEAb\n",
      "0ofbQMrRDsUaVKq2mGLEAb\n"
     ]
    }
   ],
   "source": [
    "# can save just the song id or the whole href (probably want just the id bc going to get the features)\n",
    "print(s['tracks']['items'][0]['href'])\n",
    "print(s['tracks']['items'][0]['id'])"
   ]
  },
  {
   "cell_type": "code",
   "execution_count": 100,
   "metadata": {
    "scrolled": false
   },
   "outputs": [
    {
     "data": {
      "text/plain": [
       "[{'external_urls': {'spotify': 'https://open.spotify.com/artist/4nDoRrQiYLoBzwC5BhVJzF'},\n",
       "  'href': 'https://api.spotify.com/v1/artists/4nDoRrQiYLoBzwC5BhVJzF',\n",
       "  'id': '4nDoRrQiYLoBzwC5BhVJzF',\n",
       "  'name': 'Camila Cabello',\n",
       "  'type': 'artist',\n",
       "  'uri': 'spotify:artist:4nDoRrQiYLoBzwC5BhVJzF'},\n",
       " {'external_urls': {'spotify': 'https://open.spotify.com/artist/50co4Is1HCEo8bhOyUWKpn'},\n",
       "  'href': 'https://api.spotify.com/v1/artists/50co4Is1HCEo8bhOyUWKpn',\n",
       "  'id': '50co4Is1HCEo8bhOyUWKpn',\n",
       "  'name': 'Young Thug',\n",
       "  'type': 'artist',\n",
       "  'uri': 'spotify:artist:50co4Is1HCEo8bhOyUWKpn'}]"
      ]
     },
     "execution_count": 100,
     "metadata": {},
     "output_type": "execute_result"
    }
   ],
   "source": [
    "# a song can have multiple artists (need to iterate through), but can get id's from just search\n",
    "s['tracks']['items'][0]['artists']"
   ]
  },
  {
   "cell_type": "code",
   "execution_count": 101,
   "metadata": {},
   "outputs": [
    {
     "data": {
      "text/plain": [
       "{'acousticness': 0.186,\n",
       " 'analysis_url': 'https://api.spotify.com/v1/audio-analysis/0ofbQMrRDsUaVKq2mGLEAb',\n",
       " 'danceability': 0.768,\n",
       " 'duration_ms': 216897,\n",
       " 'energy': 0.517,\n",
       " 'id': '0ofbQMrRDsUaVKq2mGLEAb',\n",
       " 'instrumentalness': 3.8e-05,\n",
       " 'key': 7,\n",
       " 'liveness': 0.104,\n",
       " 'loudness': -4.323,\n",
       " 'mode': 0,\n",
       " 'speechiness': 0.0312,\n",
       " 'tempo': 104.992,\n",
       " 'time_signature': 4,\n",
       " 'track_href': 'https://api.spotify.com/v1/tracks/0ofbQMrRDsUaVKq2mGLEAb',\n",
       " 'type': 'audio_features',\n",
       " 'uri': 'spotify:track:0ofbQMrRDsUaVKq2mGLEAb',\n",
       " 'valence': 0.418}"
      ]
     },
     "execution_count": 101,
     "metadata": {},
     "output_type": "execute_result"
    }
   ],
   "source": [
    "# example of features available for a track\n",
    "head = {'Authorization':token, \"Accept\": \"application/json\", \"Content-Type\":\"application/json\"}\n",
    "response = requests.get('https://api.spotify.com/v1/audio-features/0ofbQMrRDsUaVKq2mGLEAb', headers=head) \n",
    "json.loads(response.text)"
   ]
  },
  {
   "cell_type": "code",
   "execution_count": 102,
   "metadata": {},
   "outputs": [
    {
     "data": {
      "text/plain": [
       "{'external_urls': {'spotify': 'https://open.spotify.com/artist/50co4Is1HCEo8bhOyUWKpn'},\n",
       " 'followers': {'href': None, 'total': 2081764},\n",
       " 'genres': ['dwn trap', 'gangster rap', 'pop rap', 'rap', 'trap music'],\n",
       " 'href': 'https://api.spotify.com/v1/artists/50co4Is1HCEo8bhOyUWKpn',\n",
       " 'id': '50co4Is1HCEo8bhOyUWKpn',\n",
       " 'images': [{'height': 640,\n",
       "   'url': 'https://i.scdn.co/image/1eb847e76b0c8391cd9ec6dff07e93b86ec33d77',\n",
       "   'width': 640},\n",
       "  {'height': 320,\n",
       "   'url': 'https://i.scdn.co/image/64713d8ad9d6f05dc5f55268f8fd1e7e2e89888f',\n",
       "   'width': 320},\n",
       "  {'height': 160,\n",
       "   'url': 'https://i.scdn.co/image/25cdb6baf095e1e1f094a256bb6b3b1eceacc143',\n",
       "   'width': 160}],\n",
       " 'name': 'Young Thug',\n",
       " 'popularity': 94,\n",
       " 'type': 'artist',\n",
       " 'uri': 'spotify:artist:50co4Is1HCEo8bhOyUWKpn'}"
      ]
     },
     "execution_count": 102,
     "metadata": {},
     "output_type": "execute_result"
    }
   ],
   "source": [
    "# example of getting an artist from an id (['genres'] is what we want)\n",
    "head = {'Authorization':token, \"Accept\": \"application/json\", \"Content-Type\":\"application/json\"}\n",
    "response = requests.get('https://api.spotify.com/v1/artists/50co4Is1HCEo8bhOyUWKpn', headers=head) \n",
    "json.loads(response.text)"
   ]
  },
  {
   "cell_type": "markdown",
   "metadata": {},
   "source": [
    "### reading in radio data to build a lookup table"
   ]
  },
  {
   "cell_type": "code",
   "execution_count": null,
   "metadata": {
    "collapsed": true
   },
   "outputs": [],
   "source": [
    "data = pd.DataFrame(columns=['artist', 'time', 'title', 'day', 'month', 'station', 'start_time', 'end_time'])\n",
    "\n",
    "for file in list(map(lambda x: 'data/' + x, ['94.9_900_songs.csv', 'second_94.9.csv', 'kmel_songs.csv', 'star_songs.csv', 'not_even_in_our_timezone.csv'])):\n",
    "    df = pd.read_csv(file)\n",
    "    df = df[::-1].reset_index(drop=True)\n",
    "    df['start_time'] = pd.to_datetime('2017' + (df.month*100+df.day).apply(str) + ' ' + df.time,format='%Y%m%d %I:%M %p')\n",
    "    dt_2 = df['start_time'][1:].reset_index(drop=True)\n",
    "    dt_2.set_value(value=df['start_time'].iloc[-1] + pd.Timedelta(minutes=3), label=len(dt_2))\n",
    "    df['end_time'] = dt_2\n",
    "    data = pd.concat([data, df])\n",
    "\n",
    "print('Rows:', len(data))\n",
    "data.head()"
   ]
  }
 ],
 "metadata": {
  "anaconda-cloud": {},
  "kernelspec": {
   "display_name": "Python [Root]",
   "language": "python",
   "name": "Python [Root]"
  },
  "language_info": {
   "codemirror_mode": {
    "name": "ipython",
    "version": 3
   },
   "file_extension": ".py",
   "mimetype": "text/x-python",
   "name": "python",
   "nbconvert_exporter": "python",
   "pygments_lexer": "ipython3",
   "version": "3.5.2"
  }
 },
 "nbformat": 4,
 "nbformat_minor": 2
}
