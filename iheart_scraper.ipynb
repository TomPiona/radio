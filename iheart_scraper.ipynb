{
 "cells": [
  {
   "cell_type": "code",
   "execution_count": 83,
   "metadata": {},
   "outputs": [],
   "source": [
    "import time\n",
    "from selenium import webdriver\n",
    "from bs4 import BeautifulSoup\n",
    "import pandas as pd\n",
    "from IPython.display import Image\n",
    "from selenium.webdriver.common.by import By\n",
    "from selenium.webdriver.support.ui import WebDriverWait\n",
    "from selenium.webdriver.support import expected_conditions as EC\n",
    "\n",
    "try:\n",
    "    driver.quit()\n",
    "except:\n",
    "    print('starting fresh')\n",
    "    \n",
    "#driver = webdriver.Chrome('../../hackStacks/chromedriver')\n",
    "driver = webdriver.PhantomJS()\n",
    "driver.get('https://wild949.iheart.com/music/recently-played/')"
   ]
  },
  {
   "cell_type": "code",
   "execution_count": 84,
   "metadata": {
    "collapsed": true
   },
   "outputs": [],
   "source": [
    "# wait = WebDriverWait(driver, 10)\n",
    "# try:\n",
    "#     for i in range(10):\n",
    "#         element = wait.until(EC.element_to_be_clickable((By.XPATH, \"//button[@class='btn btn-lg load-more station-custom-button']\")))\n",
    "#         driver.find_element_by_xpath(\"//button[@class='btn btn-lg load-more station-custom-button']\").click()\n",
    "#         if i % 5 == 0:\n",
    "#             print(i)\n",
    "# except:\n",
    "#     # troubleshooting\n",
    "#     print('we failed somewhere :(')\n",
    "#     driver.save_screenshot('out.png')\n",
    "#     Image(filename='out.png') "
   ]
  },
  {
   "cell_type": "code",
   "execution_count": 85,
   "metadata": {},
   "outputs": [
    {
     "name": "stdout",
     "output_type": "stream",
     "text": [
      "0 clicks\n",
      "3 clicks\n",
      "6 clicks\n",
      "9 clicks\n",
      "12 clicks\n",
      "15 clicks\n",
      "18 clicks\n",
      "21 clicks\n",
      "24 clicks\n",
      "27 clicks\n",
      "30 clicks\n",
      "33 clicks\n",
      "36 clicks\n",
      "39 clicks\n",
      "42 clicks\n",
      "45 clicks\n",
      "48 clicks\n",
      "51 clicks\n",
      "54 clicks\n",
      "57 clicks\n",
      "60 clicks\n",
      "63 clicks\n",
      "66 clicks\n",
      "69 clicks\n",
      "72 clicks\n",
      "75 clicks\n",
      "78 clicks\n",
      "81 clicks\n",
      "84 clicks\n",
      "87 clicks\n",
      "90 clicks\n"
     ]
    },
    {
     "name": "stderr",
     "output_type": "stream",
     "text": [
      "/Users/ronaldwalker/anaconda/lib/python3.5/site-packages/bs4/__init__.py:166: UserWarning: No parser was explicitly specified, so I'm using the best available HTML parser for this system (\"lxml\"). This usually isn't a problem, but if you run this code on another system, or in a different virtual environment, it may use a different parser and behave differently.\n",
      "\n",
      "To get rid of this warning, change this:\n",
      "\n",
      " BeautifulSoup([your markup])\n",
      "\n",
      "to this:\n",
      "\n",
      " BeautifulSoup([your markup], \"lxml\")\n",
      "\n",
      "  markup_type=markup_type))\n"
     ]
    },
    {
     "name": "stdout",
     "output_type": "stream",
     "text": [
      "CPU times: user 5.21 s, sys: 1.18 s, total: 6.4 s\n",
      "Wall time: 7min 55s\n"
     ]
    }
   ],
   "source": [
    "%%time\n",
    "for i in range(92):\n",
    "    driver.find_element_by_xpath(\"//button[@class='btn btn-lg load-more station-custom-button']\").click()\n",
    "    time.sleep(5)\n",
    "    if i % 3 == 0:\n",
    "        print(i, 'clicks')\n",
    "    \n",
    "soup = BeautifulSoup(driver.page_source)\n",
    "\n",
    "driver.quit()"
   ]
  },
  {
   "cell_type": "code",
   "execution_count": 60,
   "metadata": {
    "collapsed": true
   },
   "outputs": [],
   "source": [
    "# troubleshooting\n",
    "# driver.save_screenshot('out.png')\n",
    "# Image(filename='out.png') "
   ]
  },
  {
   "cell_type": "code",
   "execution_count": 86,
   "metadata": {
    "collapsed": true
   },
   "outputs": [],
   "source": [
    "songs = soup.findAll('li', {'class': 'playlist-track-container'})\n",
    "\n",
    "titles = []\n",
    "artists = []\n",
    "times = []\n",
    "\n",
    "for song in songs:\n",
    "    song_data = [x for x in song.text.split('\\n') if x != '']\n",
    "    titles.append(song_data[0])\n",
    "    artists.append(song_data[1])\n",
    "    times.append(song_data[4])"
   ]
  },
  {
   "cell_type": "code",
   "execution_count": 87,
   "metadata": {},
   "outputs": [],
   "source": [
    "first_date = soup.find('li', {'class': 'playlist-date-header'})"
   ]
  },
  {
   "cell_type": "code",
   "execution_count": 88,
   "metadata": {
    "scrolled": true
   },
   "outputs": [
    {
     "name": "stdout",
     "output_type": "stream",
     "text": [
      "Feel It Still                 48\n",
      "Havana                        42\n",
      "rockstar [Feat. 21 Savage]    42\n",
      "What Lovers Do                40\n",
      "Thunder                       38\n",
      "Perfect                       31\n",
      "How Long                      30\n",
      "Bad At Love                   27\n",
      "New Rules                     25\n",
      "Attention                     23\n",
      "dtype: int64\n"
     ]
    }
   ],
   "source": [
    "print(pd.Series(titles).value_counts()[:10])"
   ]
  },
  {
   "cell_type": "code",
   "execution_count": 89,
   "metadata": {},
   "outputs": [
    {
     "data": {
      "text/html": [
       "<div>\n",
       "<table border=\"1\" class=\"dataframe\">\n",
       "  <thead>\n",
       "    <tr style=\"text-align: right;\">\n",
       "      <th></th>\n",
       "      <th>artist</th>\n",
       "      <th>time</th>\n",
       "      <th>title</th>\n",
       "    </tr>\n",
       "  </thead>\n",
       "  <tbody>\n",
       "    <tr>\n",
       "      <th>0</th>\n",
       "      <td>Post Malone</td>\n",
       "      <td>10:59 AM</td>\n",
       "      <td>rockstar [Feat. 21 Savage]</td>\n",
       "    </tr>\n",
       "    <tr>\n",
       "      <th>1</th>\n",
       "      <td>Portugal. The Man</td>\n",
       "      <td>10:53 AM</td>\n",
       "      <td>Feel It Still</td>\n",
       "    </tr>\n",
       "    <tr>\n",
       "      <th>2</th>\n",
       "      <td>French Montana feat. Swae Lee</td>\n",
       "      <td>10:50 AM</td>\n",
       "      <td>Unforgettable</td>\n",
       "    </tr>\n",
       "    <tr>\n",
       "      <th>3</th>\n",
       "      <td>Charlie Puth</td>\n",
       "      <td>10:46 AM</td>\n",
       "      <td>How Long</td>\n",
       "    </tr>\n",
       "    <tr>\n",
       "      <th>4</th>\n",
       "      <td>Niall Horan</td>\n",
       "      <td>10:36 AM</td>\n",
       "      <td>Slow Hands</td>\n",
       "    </tr>\n",
       "  </tbody>\n",
       "</table>\n",
       "</div>"
      ],
      "text/plain": [
       "                          artist      time                       title\n",
       "0                    Post Malone  10:59 AM  rockstar [Feat. 21 Savage]\n",
       "1              Portugal. The Man  10:53 AM               Feel It Still\n",
       "2  French Montana feat. Swae Lee  10:50 AM               Unforgettable\n",
       "3                   Charlie Puth  10:46 AM                    How Long\n",
       "4                    Niall Horan  10:36 AM                  Slow Hands"
      ]
     },
     "execution_count": 89,
     "metadata": {},
     "output_type": "execute_result"
    }
   ],
   "source": [
    "data = pd.DataFrame({'title': titles, 'artist': artists, 'time': times})\n",
    "data.head()"
   ]
  },
  {
   "cell_type": "code",
   "execution_count": 90,
   "metadata": {},
   "outputs": [
    {
     "name": "stdout",
     "output_type": "stream",
     "text": [
      "number of songs 900\n"
     ]
    }
   ],
   "source": [
    "print('number of songs', len(data))"
   ]
  },
  {
   "cell_type": "code",
   "execution_count": 91,
   "metadata": {
    "collapsed": true
   },
   "outputs": [],
   "source": [
    "actual_start_date = int([x.split('\\n') for x in first_date.text.split(' ')][2][0])"
   ]
  },
  {
   "cell_type": "code",
   "execution_count": 92,
   "metadata": {
    "collapsed": true
   },
   "outputs": [],
   "source": [
    "day_number = actual_start_date\n",
    "month_number = 12\n",
    "last = 'PM'\n",
    "days = []\n",
    "months = []\n",
    "for t in data['time']:\n",
    "    tod = t[-2:]\n",
    "    if last == 'AM' and tod == 'PM':\n",
    "        day_number -= 1\n",
    "    if day_number == 0:\n",
    "        day_number = 30\n",
    "        month_number -= 1\n",
    "    days.append(day_number)\n",
    "    months.append(month_number)\n",
    "    last = tod"
   ]
  },
  {
   "cell_type": "code",
   "execution_count": 93,
   "metadata": {
    "collapsed": true,
    "scrolled": true
   },
   "outputs": [],
   "source": [
    "data['day'] = days\n",
    "data['month'] = months\n",
    "data['station'] = '94.9'"
   ]
  },
  {
   "cell_type": "code",
   "execution_count": 94,
   "metadata": {
    "scrolled": true
   },
   "outputs": [
    {
     "data": {
      "text/html": [
       "<div>\n",
       "<table border=\"1\" class=\"dataframe\">\n",
       "  <thead>\n",
       "    <tr style=\"text-align: right;\">\n",
       "      <th></th>\n",
       "      <th>artist</th>\n",
       "      <th>time</th>\n",
       "      <th>title</th>\n",
       "      <th>day</th>\n",
       "      <th>month</th>\n",
       "      <th>station</th>\n",
       "    </tr>\n",
       "  </thead>\n",
       "  <tbody>\n",
       "    <tr>\n",
       "      <th>0</th>\n",
       "      <td>Post Malone</td>\n",
       "      <td>10:59 AM</td>\n",
       "      <td>rockstar [Feat. 21 Savage]</td>\n",
       "      <td>2</td>\n",
       "      <td>12</td>\n",
       "      <td>94.9</td>\n",
       "    </tr>\n",
       "    <tr>\n",
       "      <th>1</th>\n",
       "      <td>Portugal. The Man</td>\n",
       "      <td>10:53 AM</td>\n",
       "      <td>Feel It Still</td>\n",
       "      <td>2</td>\n",
       "      <td>12</td>\n",
       "      <td>94.9</td>\n",
       "    </tr>\n",
       "    <tr>\n",
       "      <th>2</th>\n",
       "      <td>French Montana feat. Swae Lee</td>\n",
       "      <td>10:50 AM</td>\n",
       "      <td>Unforgettable</td>\n",
       "      <td>2</td>\n",
       "      <td>12</td>\n",
       "      <td>94.9</td>\n",
       "    </tr>\n",
       "    <tr>\n",
       "      <th>3</th>\n",
       "      <td>Charlie Puth</td>\n",
       "      <td>10:46 AM</td>\n",
       "      <td>How Long</td>\n",
       "      <td>2</td>\n",
       "      <td>12</td>\n",
       "      <td>94.9</td>\n",
       "    </tr>\n",
       "    <tr>\n",
       "      <th>4</th>\n",
       "      <td>Niall Horan</td>\n",
       "      <td>10:36 AM</td>\n",
       "      <td>Slow Hands</td>\n",
       "      <td>2</td>\n",
       "      <td>12</td>\n",
       "      <td>94.9</td>\n",
       "    </tr>\n",
       "  </tbody>\n",
       "</table>\n",
       "</div>"
      ],
      "text/plain": [
       "                          artist      time                       title  day  \\\n",
       "0                    Post Malone  10:59 AM  rockstar [Feat. 21 Savage]    2   \n",
       "1              Portugal. The Man  10:53 AM               Feel It Still    2   \n",
       "2  French Montana feat. Swae Lee  10:50 AM               Unforgettable    2   \n",
       "3                   Charlie Puth  10:46 AM                    How Long    2   \n",
       "4                    Niall Horan  10:36 AM                  Slow Hands    2   \n",
       "\n",
       "   month station  \n",
       "0     12    94.9  \n",
       "1     12    94.9  \n",
       "2     12    94.9  \n",
       "3     12    94.9  \n",
       "4     12    94.9  "
      ]
     },
     "execution_count": 94,
     "metadata": {},
     "output_type": "execute_result"
    }
   ],
   "source": [
    "data.head()"
   ]
  },
  {
   "cell_type": "code",
   "execution_count": 96,
   "metadata": {},
   "outputs": [
    {
     "data": {
      "text/html": [
       "<div>\n",
       "<table border=\"1\" class=\"dataframe\">\n",
       "  <thead>\n",
       "    <tr style=\"text-align: right;\">\n",
       "      <th></th>\n",
       "      <th>artist</th>\n",
       "      <th>time</th>\n",
       "      <th>title</th>\n",
       "      <th>day</th>\n",
       "      <th>month</th>\n",
       "      <th>station</th>\n",
       "    </tr>\n",
       "  </thead>\n",
       "  <tbody>\n",
       "    <tr>\n",
       "      <th>486</th>\n",
       "      <td>Charlie Puth</td>\n",
       "      <td>3:52 PM</td>\n",
       "      <td>How Long</td>\n",
       "      <td>30</td>\n",
       "      <td>11</td>\n",
       "      <td>94.9</td>\n",
       "    </tr>\n",
       "  </tbody>\n",
       "</table>\n",
       "</div>"
      ],
      "text/plain": [
       "           artist     time     title  day  month station\n",
       "486  Charlie Puth  3:52 PM  How Long   30     11    94.9"
      ]
     },
     "execution_count": 96,
     "metadata": {},
     "output_type": "execute_result"
    }
   ],
   "source": [
    "data.query('time == \"3:52 PM\"')"
   ]
  },
  {
   "cell_type": "code",
   "execution_count": 69,
   "metadata": {
    "collapsed": true
   },
   "outputs": [],
   "source": [
    "data.to_csv(, index=False)"
   ]
  }
 ],
 "metadata": {
  "anaconda-cloud": {},
  "kernelspec": {
   "display_name": "Python [Root]",
   "language": "python",
   "name": "Python [Root]"
  },
  "language_info": {
   "codemirror_mode": {
    "name": "ipython",
    "version": 3
   },
   "file_extension": ".py",
   "mimetype": "text/x-python",
   "name": "python",
   "nbconvert_exporter": "python",
   "pygments_lexer": "ipython3",
   "version": "3.5.2"
  }
 },
 "nbformat": 4,
 "nbformat_minor": 1
}
